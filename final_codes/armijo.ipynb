{
 "cells": [
  {
   "cell_type": "code",
   "execution_count": null,
   "metadata": {},
   "outputs": [],
   "source": [
    "import numpy as np\n",
    "def line_search_armijo(f, xk, pk, gfk, old_fval, args=(), c1=1e-4, alpha0=1):\n",
    "    \"\"\"Minimize over alpha, the function ``f(xk+alpha pk)``.\n",
    "    Parameters\n",
    "    ----------\n",
    "    f : callable\n",
    "        Function to be minimized.\n",
    "    xk : array_like\n",
    "        Current point.\n",
    "    pk : array_like\n",
    "        Search direction.\n",
    "    gfk : array_like\n",
    "        Gradient of `f` at point `xk`.\n",
    "    old_fval : float\n",
    "        Value of `f` at point `xk`.\n",
    "    args : tuple, optional\n",
    "        Optional arguments.\n",
    "    c1 : float, optional\n",
    "        Value to control stopping criterion.\n",
    "    alpha0 : scalar, optional\n",
    "        Value of `alpha` at start of the optimization.\n",
    "    Returns\n",
    "    -------\n",
    "    alpha\n",
    "    f_count\n",
    "    f_val_at_alpha\n",
    "    Notes\n",
    "    -----\n",
    "    Uses the interpolation algorithm (Armijo backtracking) as suggested by\n",
    "    Wright and Nocedal in 'Numerical Optimization', 1999, pp. 56-57\n",
    "    \"\"\"\n",
    "    xk = np.atleast_1d(xk)\n",
    "    fc = [0]\n",
    "\n",
    "    def phi(alpha1):\n",
    "        fc[0] += 1\n",
    "        return f(xk + alpha1*pk, *args)\n",
    "\n",
    "    if old_fval is None:\n",
    "        phi0 = phi(0.)\n",
    "    else:\n",
    "        phi0 = old_fval  # compute f(xk) -- done in past loop\n",
    "\n",
    "    derphi0 = np.dot(gfk, pk)\n",
    "    alpha, phi1 = scalar_search_armijo(phi, phi0, derphi0, c1=c1,\n",
    "                                       alpha0=alpha0)\n",
    "    return alpha, fc[0], phi1\n"
   ]
  }
 ],
 "metadata": {
  "kernelspec": {
   "display_name": "Python 3",
   "language": "python",
   "name": "python3"
  },
  "language_info": {
   "codemirror_mode": {
    "name": "ipython",
    "version": 3
   },
   "file_extension": ".py",
   "mimetype": "text/x-python",
   "name": "python",
   "nbconvert_exporter": "python",
   "pygments_lexer": "ipython3",
   "version": "3.7.7"
  }
 },
 "nbformat": 4,
 "nbformat_minor": 4
}
