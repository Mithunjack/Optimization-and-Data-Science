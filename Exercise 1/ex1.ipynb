{
 "cells": [
  {
   "cell_type": "code",
   "execution_count": 56,
   "metadata": {},
   "outputs": [
    {
     "name": "stdout",
     "output_type": "stream",
     "text": [
      "Result of 3a: -4.0\n",
      "Result of 3b: -11.999999999999998\n",
      "Machine precision for 4 byte: 6\n",
      "Largest reprenstable numebr for 4 byte: 3.4028235e+38\n",
      "Smallest positive for 4 byte: 1.1920929e-07\n",
      "Machine precision for 8 byte: 15\n",
      "Largest reprenstable numebr for 8 byte: 1.7976931348623157e+308\n",
      "Smallest positive for 8 byte: 2.220446049250313e-16\n"
     ]
    }
   ],
   "source": [
    "import numpy as np\n",
    "\n",
    "def ex1_3_a():\n",
    "    array_1 = np.array([1,-3,2])\n",
    "    first_norm = np.linalg.norm(array_1, 1)\n",
    "\n",
    "    array_2 = np.array([1,-1])\n",
    "    array_3 = np.array([[1,2,0],[-3,-2,1]])\n",
    "    array_4 = np.array([1,-3,2])\n",
    "\n",
    "    X = np.dot(array_2.transpose(),array_3)\n",
    "\n",
    "    result = np.add(first_norm , np.dot(X,array_4))\n",
    "    print(\"Result of 3a:\" , result)\n",
    "    \n",
    "\n",
    "def ex1_3_b():\n",
    "    array_1 = np.array([0,-1,-2])\n",
    "    array_2 = np.array([1,-3])\n",
    "    array_3 = np.array([1,-3])\n",
    "    array_4 = np.array([1,-3])\n",
    "    array_5 = np.array([1, 2])\n",
    "    array_6 = np.array([1,-2])\n",
    "    \n",
    "    inf_norm = np.linalg.norm(array_1,np.inf)\n",
    "    euclead_norm = np.linalg.norm(array_2,2)\n",
    "    \n",
    "    x = np.dot(np.transpose(array_3),array_4)\n",
    "    y = np.dot(array_5,array_6.transpose())\n",
    "    \n",
    "    result = (inf_norm ** 2) * (euclead_norm ** -2) * np.dot(x,y)\n",
    "    print(\"Result of 3b:\" , result)\n",
    "\n",
    "\n",
    "\n",
    "def ex1_4_a():\n",
    "    print(\"Machine precision for 4 byte:\", np.finfo(np.float32).precision)\n",
    "    print(\"Largest reprenstable numebr for 4 byte:\", np.finfo(np.float32).max)\n",
    "    print(\"Smallest positive for 4 byte:\", np.finfo(np.float32).eps)\n",
    "    \n",
    "    print(\"Machine precision for 8 byte:\", np.finfo(np.float64).precision)\n",
    "    print(\"Largest reprenstable numebr for 8 byte:\", np.finfo(np.float64).max)\n",
    "    print(\"Smallest positive for 8 byte:\", np.finfo(np.float64).eps)\n",
    "\n",
    "ex1_3_a()\n",
    "ex1_3_b()\n",
    "ex1_4_a()"
   ]
  },
  {
   "cell_type": "code",
   "execution_count": null,
   "metadata": {},
   "outputs": [],
   "source": []
  },
  {
   "cell_type": "code",
   "execution_count": null,
   "metadata": {},
   "outputs": [],
   "source": []
  },
  {
   "cell_type": "code",
   "execution_count": null,
   "metadata": {},
   "outputs": [],
   "source": []
  },
  {
   "cell_type": "code",
   "execution_count": null,
   "metadata": {},
   "outputs": [],
   "source": []
  }
 ],
 "metadata": {
  "kernelspec": {
   "display_name": "Python 3",
   "language": "python",
   "name": "python3"
  },
  "language_info": {
   "codemirror_mode": {
    "name": "ipython",
    "version": 3
   },
   "file_extension": ".py",
   "mimetype": "text/x-python",
   "name": "python",
   "nbconvert_exporter": "python",
   "pygments_lexer": "ipython3",
   "version": "3.7.6"
  }
 },
 "nbformat": 4,
 "nbformat_minor": 4
}
