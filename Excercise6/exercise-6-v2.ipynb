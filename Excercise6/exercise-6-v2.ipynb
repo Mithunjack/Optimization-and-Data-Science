{
 "cells": [
  {
   "cell_type": "code",
   "execution_count": 34,
   "metadata": {},
   "outputs": [],
   "source": [
    "import numpy as np\n",
    "from numpy import linalg as LA\n",
    "import scipy\n",
    "import itertools as it"
   ]
  },
  {
   "cell_type": "code",
   "execution_count": 35,
   "metadata": {},
   "outputs": [],
   "source": [
    "def ek(k,dim):\n",
    "    ek = np.zeros(dim)\n",
    "    ek[k]=1\n",
    "    return ek"
   ]
  },
  {
   "cell_type": "code",
   "execution_count": 36,
   "metadata": {},
   "outputs": [],
   "source": [
    "def grad_neumeric(f,values,h=0.00001):\n",
    "    dim = len(values)\n",
    "    derviative = lambda val,pos: (f(*(val+h*pos))-f(*val))/h\n",
    "    return np.array([derviative(values,ek(i,dim))  for i in range(dim)])"
   ]
  },
  {
   "cell_type": "code",
   "execution_count": 37,
   "metadata": {},
   "outputs": [
    {
     "data": {
      "text/plain": [
       "array([2.00001, 4.00001, 6.00001])"
      ]
     },
     "execution_count": 37,
     "metadata": {},
     "output_type": "execute_result"
    }
   ],
   "source": [
    "test_f = lambda x,y,z: x**2+y**2+z**2\n",
    "test_val = np.array([1,2,3])\n",
    "grad_approx = grad_neumeric(test_f,test_val)\n",
    "grad_approx"
   ]
  },
  {
   "cell_type": "code",
   "execution_count": 38,
   "metadata": {},
   "outputs": [],
   "source": [
    "def hassian_neumeric(f,values,h=0.00001):\n",
    "    der_hessian_at_val = []\n",
    "    der_hessian = lambda vec, eki,ekj: (f(*(vec+h*ekj+h*eki))-f(*(vec+h*ekj))-f(*(vec+h*eki))+f(*vec))/h**2 \n",
    "    dim = len(values)\n",
    "    for i in range(dim):\n",
    "       for j in range(dim):\n",
    "           val = (der_hessian(values,ek(i,dim),ek(j,dim)))\n",
    "           der_hessian_at_val.append(val)\n",
    "    der_hessian_at_val = np.array(der_hessian_at_val).reshape(dim,dim)\n",
    "    return der_hessian_at_val"
   ]
  },
  {
   "cell_type": "code",
   "execution_count": 39,
   "metadata": {},
   "outputs": [
    {
     "name": "stdout",
     "output_type": "stream",
     "text": [
      "[2.00001 4.00001]\n",
      "[[2.00000017 0.        ]\n",
      " [0.         2.00000017]]\n"
     ]
    }
   ],
   "source": [
    "test_hf = lambda x,y: x**2+y**2\n",
    "test_hval = np.array([1,2])\n",
    "print(grad_neumeric(test_hf,test_hval))\n",
    "print(hassian_neumeric(test_hf,test_hval))"
   ]
  },
  {
   "cell_type": "code",
   "execution_count": 40,
   "metadata": {},
   "outputs": [],
   "source": [
    "def gradient_at_val(f,gradient_f,values):\n",
    "    grad = []\n",
    "    if gradient_f is None:\n",
    "        return np.array(grad_neumeric(f,values))\n",
    "    for function in gradient_f:\n",
    "        gradient = function(*values)\n",
    "        grad.append(gradient)\n",
    "#     print('gradient--->',grad)\n",
    "    return np.array(grad)"
   ]
  },
  {
   "cell_type": "code",
   "execution_count": 41,
   "metadata": {},
   "outputs": [],
   "source": [
    "def hassian_at_val(f,gradient2d_f,values):\n",
    "    hassian = []\n",
    "    if gradient2d_f is None:\n",
    "        return hassian_neumeric(f,values)\n",
    "    for gradient_f in gradient2d_f:\n",
    "        grad = gradient_at_val(f,gradient_f,values)\n",
    "        hassian.append(grad)\n",
    "    return np.array(hassian)"
   ]
  },
  {
   "cell_type": "code",
   "execution_count": 42,
   "metadata": {},
   "outputs": [],
   "source": [
    "def gradient_direction(function,gradient_f,gradient2d_f,values,newton_direction=False):\n",
    "    dk = []\n",
    "    grad = gradient_at_val(function,gradient_f,values)\n",
    "    if newton_direction:\n",
    "        dk = - np.dot(LA.inv(hassian_at_val(function,gradient2d_f,values)), grad)\n",
    "        print('used newton')\n",
    "        if - np.dot(grad.T,dk)/(LA.norm(grad)*LA.norm(dk)) < 0.05:\n",
    "            dk = - grad\n",
    "            print('used grad')\n",
    "    else:\n",
    "        dk = - grad\n",
    "        print('used neg grad')\n",
    "    return dk\n",
    "        "
   ]
  },
  {
   "cell_type": "code",
   "execution_count": 43,
   "metadata": {},
   "outputs": [],
   "source": [
    "def descent_direction(f,gradient_f,values):\n",
    "    grad = gradient_at_val(f,gradient_f,values)\n",
    "    p =  - (LA.norm(grad))**2\n",
    "    return p"
   ]
  },
  {
   "cell_type": "code",
   "execution_count": 44,
   "metadata": {},
   "outputs": [],
   "source": [
    "def armijo_step_algorithm(f,gradient_f,dk,values,delta):\n",
    "    ro = 1\n",
    "    grad_at_values = gradient_at_val(f,gradient_f,values).T\n",
    "    while f(*(values+ro*dk)) <= f(*values)+ro*delta*np.dot(grad_at_values,dk):\n",
    "        ro *= 2\n",
    "    \n",
    "    while f(*(values+ro*dk)) > f(*values)+ro*delta*np.dot(grad_at_values,dk):\n",
    "        ro /= 2\n",
    "    return ro"
   ]
  },
  {
   "cell_type": "code",
   "execution_count": 45,
   "metadata": {},
   "outputs": [],
   "source": [
    "# Bazaray shetty function\n",
    "# f = lambda x,y: (x-2)**4 + (x-2*y)**2\n",
    "# dfx = lambda x,y: 4*(x-2)**3+2*(x-2*y)\n",
    "# dfy = lambda x,y: -4*(x-2*y)\n",
    "\n",
    "# dfx11 = lambda x,y: 12*(x-2)**2+2\n",
    "# dfx12 = lambda x,y: -4\n",
    "\n",
    "# dfx21 = lambda x,y: -4\n",
    "# dfx22 = lambda x,y: 8"
   ]
  },
  {
   "cell_type": "code",
   "execution_count": 46,
   "metadata": {},
   "outputs": [],
   "source": [
    "# rosenbrook function\n",
    "f = lambda x,y : 100*(y-x*x)**2 + (1-x)**2\n",
    "dfx = lambda x,y: -400*x*(y-x*x) + 2*x - 2\n",
    "dfy = lambda x,y: 200*(y-x*x)\n",
    "\n",
    "dfx11 = lambda x,y: -400*(y-3*x**2)+2\n",
    "dfx12 = lambda x,y: -400*x\n",
    "\n",
    "dfx21 = lambda x,y: -400*x\n",
    "dfx22 = lambda x,y: 200"
   ]
  },
  {
   "cell_type": "code",
   "execution_count": 47,
   "metadata": {},
   "outputs": [
    {
     "name": "stdout",
     "output_type": "stream",
     "text": [
      "dfx numeric: [-399.99798996  200.001     ] \n",
      "dfx: -400  dfy:200\n"
     ]
    }
   ],
   "source": [
    "print(f'dfx numeric: {grad_neumeric(f,[1,2])} ')\n",
    "print(f'dfx: {dfx(1,2)}  dfy:{dfy(1,2)}')"
   ]
  },
  {
   "cell_type": "code",
   "execution_count": 48,
   "metadata": {},
   "outputs": [
    {
     "name": "stdout",
     "output_type": "stream",
     "text": [
      "dfx numeric: [[ 402.02365881 -400.00216472]\n",
      " [-400.00216472  199.99987444]] \n",
      "dfx11: 402  dfx12:-400 dfx21:-400 dfx22:200\n"
     ]
    }
   ],
   "source": [
    "print(f'dfx numeric: {hassian_neumeric(f,[1,2])} ')\n",
    "print(f'dfx11: {dfx11(1,2)}  dfx12:{dfx12(1,2)} dfx21:{dfx21(1,2)} dfx22:{dfx22(1,2)}')"
   ]
  },
  {
   "cell_type": "code",
   "execution_count": 49,
   "metadata": {},
   "outputs": [
    {
     "ename": "NameError",
     "evalue": "name 'negative_grad' is not defined",
     "output_type": "error",
     "traceback": [
      "\u001b[1;31m---------------------------------------------------------------------------\u001b[0m",
      "\u001b[1;31mNameError\u001b[0m                                 Traceback (most recent call last)",
      "\u001b[1;32m<ipython-input-49-094c452bfc04>\u001b[0m in \u001b[0;36m<module>\u001b[1;34m\u001b[0m\n\u001b[0;32m      2\u001b[0m \u001b[1;31m# negative_grad = np.array([-400,-200])\u001b[0m\u001b[1;33m\u001b[0m\u001b[1;33m\u001b[0m\u001b[1;33m\u001b[0m\u001b[0m\n\u001b[0;32m      3\u001b[0m \u001b[0mdelta\u001b[0m \u001b[1;33m=\u001b[0m \u001b[1;36m10e-4\u001b[0m\u001b[1;33m\u001b[0m\u001b[1;33m\u001b[0m\u001b[0m\n\u001b[1;32m----> 4\u001b[1;33m \u001b[0mstep_size\u001b[0m \u001b[1;33m=\u001b[0m \u001b[0marmijo_step_algorithm\u001b[0m\u001b[1;33m(\u001b[0m\u001b[0mf\u001b[0m\u001b[1;33m,\u001b[0m\u001b[0mnp\u001b[0m\u001b[1;33m.\u001b[0m\u001b[0marray\u001b[0m\u001b[1;33m(\u001b[0m\u001b[1;33m[\u001b[0m\u001b[0mdfx\u001b[0m\u001b[1;33m,\u001b[0m\u001b[0mdfy\u001b[0m\u001b[1;33m]\u001b[0m\u001b[1;33m)\u001b[0m\u001b[1;33m,\u001b[0m\u001b[0mnegative_grad\u001b[0m\u001b[1;33m,\u001b[0m\u001b[0mnp\u001b[0m\u001b[1;33m.\u001b[0m\u001b[0marray\u001b[0m\u001b[1;33m(\u001b[0m\u001b[1;33m[\u001b[0m\u001b[1;36m1\u001b[0m\u001b[1;33m,\u001b[0m\u001b[1;36m2\u001b[0m\u001b[1;33m]\u001b[0m\u001b[1;33m)\u001b[0m\u001b[1;33m,\u001b[0m\u001b[0mdelta\u001b[0m\u001b[1;33m)\u001b[0m\u001b[1;33m\u001b[0m\u001b[1;33m\u001b[0m\u001b[0m\n\u001b[0m\u001b[0;32m      5\u001b[0m \u001b[0mprint\u001b[0m\u001b[1;33m(\u001b[0m\u001b[0mstep_size\u001b[0m\u001b[1;33m)\u001b[0m\u001b[1;33m\u001b[0m\u001b[1;33m\u001b[0m\u001b[0m\n",
      "\u001b[1;31mNameError\u001b[0m: name 'negative_grad' is not defined"
     ]
    }
   ],
   "source": [
    "\n",
    "\n",
    "negative_grad = gradient_at_val(np.array([dfx,dfy]),np.array([1,2]))\n",
    "# negative_grad = np.array([-400,-200])\n",
    "delta = 10e-4\n",
    "step_size = armijo_step_algorithm(f,np.array([dfx,dfy]),negative_grad,np.array([1,2]),delta)\n",
    "print(step_size)"
   ]
  },
  {
   "cell_type": "code",
   "execution_count": null,
   "metadata": {},
   "outputs": [],
   "source": [
    "from numpy import linalg as LA\n",
    "def general_descent(iteration,function,gradient_f,gradient2d_f,initial,use_newton=True):\n",
    "    xk = initial\n",
    "    counter = 0\n",
    "    xk1 = 0\n",
    "    delta = 10**(-3)\n",
    "    while counter <=iteration:\n",
    "        print(LA.norm(gradient_at_val(function,gradient_f,xk)))\n",
    "        dk = gradient_direction(function,gradient_f,gradient2d_f,xk,newton_direction=use_newton)\n",
    "        step_size = armijo_step_algorithm(function,gradient_f,dk,xk,delta)\n",
    "        xk1 = xk + step_size*dk\n",
    "        xk = xk1\n",
    "        print('xk1 at iterate: {}--->: {}'.format(counter,xk1))\n",
    "        print('dk at iterate: {}--->: {}'.format(counter,dk))\n",
    "        print('step_size at iterate: {}--->: {}'.format(counter,step_size))\n",
    "        counter += 1\n",
    "        if LA.norm(gradient_at_val(function,gradient_f,xk))<=0.0001:\n",
    "            break\n",
    "    return xk1"
   ]
  },
  {
   "cell_type": "code",
   "execution_count": null,
   "metadata": {},
   "outputs": [],
   "source": [
    "general_descent(10000,f,np.array([dfx,dfy]),np.array([[dfx11,dfx12],[dfx21,dfx22]]),np.array([0,10]),use_newton=True)"
   ]
  },
  {
   "cell_type": "code",
   "execution_count": null,
   "metadata": {},
   "outputs": [],
   "source": [
    "general_descent(20000,f,None,None,np.array([0,10]),use_newton=True)"
   ]
  },
  {
   "cell_type": "code",
   "execution_count": null,
   "metadata": {},
   "outputs": [],
   "source": [
    "import matplotlib.pyplot as plt\n",
    "x = np.arange(-10,10,1)\n",
    "y = np.arange(-10,10,1)\n",
    "fx = f(x,y)"
   ]
  },
  {
   "cell_type": "code",
   "execution_count": null,
   "metadata": {},
   "outputs": [],
   "source": [
    "import matplotlib as mpl\n",
    "from mpl_toolkits.mplot3d import Axes3D\n",
    "import numpy as np\n",
    "import matplotlib.pyplot as plt\n",
    "\n",
    "%matplotlib inline\n",
    "\n",
    "def draw_function(x,y,f):\n",
    "    fig = plt.figure(figsize=(20, 10))\n",
    "    ax = plt.gca(projection='3d')\n",
    "    s=0.5\n",
    "    x,y = np.meshgrid(x,y)\n",
    "    z= f(x,y)\n",
    "    ax.plot_surface(x, y, z)"
   ]
  },
  {
   "cell_type": "code",
   "execution_count": null,
   "metadata": {},
   "outputs": [],
   "source": [
    "draw_function(x,y,f)"
   ]
  },
  {
   "cell_type": "code",
   "execution_count": null,
   "metadata": {},
   "outputs": [],
   "source": []
  }
 ],
 "metadata": {
  "kernelspec": {
   "display_name": "Python 3",
   "language": "python",
   "name": "python3"
  },
  "language_info": {
   "codemirror_mode": {
    "name": "ipython",
    "version": 3
   },
   "file_extension": ".py",
   "mimetype": "text/x-python",
   "name": "python",
   "nbconvert_exporter": "python",
   "pygments_lexer": "ipython3",
   "version": "3.7.6"
  }
 },
 "nbformat": 4,
 "nbformat_minor": 1
}
