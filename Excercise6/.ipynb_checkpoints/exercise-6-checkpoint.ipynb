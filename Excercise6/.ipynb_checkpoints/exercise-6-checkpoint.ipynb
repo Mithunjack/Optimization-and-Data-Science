{
 "cells": [
  {
   "cell_type": "code",
   "execution_count": null,
   "metadata": {},
   "outputs": [],
   "source": [
    "import numpy as np\n",
    "from numpy import linalg as LA\n",
    "import scipy"
   ]
  },
  {
   "cell_type": "code",
   "execution_count": null,
   "metadata": {},
   "outputs": [],
   "source": [
    "def gradient(gradient_f,values):\n",
    "    grad = []\n",
    "    for function in gradient_f:\n",
    "        gradient = function(*values)\n",
    "        grad.append(gradient)\n",
    "#     print('gradient--->',grad)\n",
    "    return np.array(grad)\n",
    "    "
   ]
  },
  {
   "cell_type": "code",
   "execution_count": null,
   "metadata": {},
   "outputs": [],
   "source": [
    "def descent_direction(gradient_f,values):\n",
    "    grad = gradient(gradient_f,values)\n",
    "#     grad_square = np.array([g*g for g in grad])\n",
    "#     print('grad square calculated ---> {}'.format(grad_square))\n",
    "    p =  - (LA.norm(grad))**2\n",
    "    return p"
   ]
  },
  {
   "cell_type": "code",
   "execution_count": null,
   "metadata": {},
   "outputs": [],
   "source": [
    "def armijo_step_algorithm(f,gradient2,negative_grad,values,delta):\n",
    "    ro = 1\n",
    "    eta = 2\n",
    "    descent = descent_direction(gradient2,values)\n",
    "    while f(*(values+ro*negative_grad)) <= f(*values)+ro*delta*descent:\n",
    "        ro *= 2\n",
    "    \n",
    "    while f(*(values+ro*negative_grad)) > f(*values)+ro*delta*descent:\n",
    "        ro /= 2\n",
    "    return ro"
   ]
  },
  {
   "cell_type": "code",
   "execution_count": null,
   "metadata": {
    "scrolled": true
   },
   "outputs": [],
   "source": [
    "f = lambda x,y : 100*(y-x*x)**2 + (1-x*x)\n",
    "dfx = lambda x,y: -400*x*(y-x*x) + 2*x - 2\n",
    "dfy = lambda x,y: 200*(y-x*x)\n",
    "# f = lambda x,y : 4*x*x+y*y\n",
    "# dfx = lambda x,y: 8*x+y*0\n",
    "# dfy = lambda x,y: 2*y+x*0\n",
    "negative_grad = gradient(np.array([dfx,dfy]),np.array([1,2]))\n",
    "# negative_grad = np.array([-400,-200])\n",
    "delta = 10e-4\n",
    "step_size = armijo_step_algorithm(f,np.array([dfx,dfy]),negative_grad,np.array([1,2]),delta)\n",
    "print(step_size)"
   ]
  },
  {
   "cell_type": "code",
   "execution_count": null,
   "metadata": {},
   "outputs": [],
   "source": [
    "print(dfx(1,1))\n",
    "print(dfy(1,1))"
   ]
  },
  {
   "cell_type": "code",
   "execution_count": null,
   "metadata": {},
   "outputs": [],
   "source": [
    "from numpy import linalg as LA\n",
    "def general_descent(accuracy,function,gradient_f,initial):\n",
    "    xk = initial\n",
    "    counter = 0\n",
    "    xk1 = 0\n",
    "    delta = 10**(-3)\n",
    "    while counter <=1000:\n",
    "        print(LA.norm(gradient(gradient_f,xk)))\n",
    "        dk = -gradient(gradient_f,xk)\n",
    "        step_size = armijo_step_algorithm(function,gradient_f,dk,xk,delta)\n",
    "        xk1 = xk + step_size*dk\n",
    "        xk = xk1\n",
    "        print('xk1 at iterate: {}--->: {}'.format(counter,xk1))\n",
    "        print('dk at iterate: {}--->: {}'.format(counter,dk))\n",
    "        print('step_size at iterate: {}--->: {}'.format(counter,step_size))\n",
    "        counter += 1\n",
    "#         if LA.norm(xk1-xk)> 0:\n",
    "#             break\n",
    "    return xk1"
   ]
  },
  {
   "cell_type": "code",
   "execution_count": null,
   "metadata": {
    "scrolled": true
   },
   "outputs": [],
   "source": [
    "general_descent(10,f,np.array([dfx,dfy]),np.array([0,10]))"
   ]
  },
  {
   "cell_type": "code",
   "execution_count": null,
   "metadata": {},
   "outputs": [],
   "source": [
    "import matplotlib.pyplot as plt\n",
    "x = np.arange(-10,10,1)\n",
    "y = np.arange(-10,10,1)\n",
    "fx = f(x,y)"
   ]
  },
  {
   "cell_type": "code",
   "execution_count": null,
   "metadata": {},
   "outputs": [],
   "source": [
    "import matplotlib as mpl\n",
    "from mpl_toolkits.mplot3d import Axes3D\n",
    "import numpy as np\n",
    "import matplotlib.pyplot as plt\n",
    "\n",
    "%matplotlib inline\n",
    "\n",
    "def draw_function(x,y,f):\n",
    "    fig = plt.figure(figsize=(20, 10))\n",
    "    ax = plt.gca(projection='3d')\n",
    "    s=0.5\n",
    "    x,y = np.meshgrid(x,y)\n",
    "    z= f(x,y)\n",
    "    ax.plot_surface(x, y, z)"
   ]
  },
  {
   "cell_type": "code",
   "execution_count": null,
   "metadata": {},
   "outputs": [],
   "source": [
    "draw_function(x,y,f)"
   ]
  },
  {
   "cell_type": "code",
   "execution_count": null,
   "metadata": {},
   "outputs": [],
   "source": []
  }
 ],
 "metadata": {
  "kernelspec": {
   "display_name": "Python 3",
   "language": "python",
   "name": "python3"
  },
  "language_info": {
   "codemirror_mode": {
    "name": "ipython",
    "version": 3
   },
   "file_extension": ".py",
   "mimetype": "text/x-python",
   "name": "python",
   "nbconvert_exporter": "python",
   "pygments_lexer": "ipython3",
   "version": "3.7.6"
  }
 },
 "nbformat": 4,
 "nbformat_minor": 4
}
