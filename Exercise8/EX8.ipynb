{
 "cells": [
  {
   "cell_type": "code",
   "execution_count": 5,
   "metadata": {},
   "outputs": [],
   "source": [
    "import numpy as np"
   ]
  },
  {
   "cell_type": "code",
   "execution_count": 6,
   "metadata": {},
   "outputs": [],
   "source": [
    "data_1 = np.loadtxt('data1.txt', delimiter='\\n')"
   ]
  },
  {
   "cell_type": "code",
   "execution_count": 7,
   "metadata": {},
   "outputs": [
    {
     "data": {
      "text/plain": [
       "array([1.65, 1.69, 1.29, 2.3 , 1.62, 1.57, 2.7 , 2.13, 1.15, 2.15, 2.39,\n",
       "       1.38, 1.43, 1.17, 2.21, 2.08, 1.85, 1.42, 2.9 , 2.41, 2.78, 1.99,\n",
       "       1.54, 2.3 , 2.03, 2.1 , 1.83, 1.09, 1.01, 2.  , 1.35, 2.  , 1.95,\n",
       "       1.38, 1.56, 1.66, 1.47, 2.14, 1.47, 2.63, 2.34, 2.23, 2.25, 2.32,\n",
       "       1.06, 1.95, 2.09, 1.62, 2.87, 1.44, 2.51, 1.31, 1.4 , 2.16, 2.91,\n",
       "       1.79, 1.9 , 1.72, 2.46, 1.14, 1.76, 1.34, 2.14, 2.8 , 2.25, 2.7 ,\n",
       "       1.75, 2.99, 2.22, 1.81, 1.68, 2.96, 2.23, 2.84, 2.35, 2.34, 2.63,\n",
       "       2.76, 2.42, 2.24, 1.58, 2.22, 1.39, 2.33, 2.7 , 1.5 , 1.59, 2.52,\n",
       "       1.79, 1.75, 2.95, 1.72, 2.33, 2.34, 2.48, 2.86, 1.72, 2.18, 1.66,\n",
       "       1.19])"
      ]
     },
     "execution_count": 7,
     "metadata": {},
     "output_type": "execute_result"
    }
   ],
   "source": [
    "data_1"
   ]
  },
  {
   "cell_type": "code",
   "execution_count": 27,
   "metadata": {},
   "outputs": [],
   "source": [
    "frequency = np.unique(data_1, return_counts=True)"
   ]
  },
  {
   "cell_type": "code",
   "execution_count": 28,
   "metadata": {},
   "outputs": [
    {
     "data": {
      "text/plain": [
       "array([[1.01, 1.  ],\n",
       "       [1.06, 1.  ],\n",
       "       [1.09, 1.  ],\n",
       "       [1.14, 1.  ],\n",
       "       [1.15, 1.  ],\n",
       "       [1.17, 1.  ],\n",
       "       [1.19, 1.  ],\n",
       "       [1.29, 1.  ],\n",
       "       [1.31, 1.  ],\n",
       "       [1.34, 1.  ],\n",
       "       [1.35, 1.  ],\n",
       "       [1.38, 2.  ],\n",
       "       [1.39, 1.  ],\n",
       "       [1.4 , 1.  ],\n",
       "       [1.42, 1.  ],\n",
       "       [1.43, 1.  ],\n",
       "       [1.44, 1.  ],\n",
       "       [1.47, 2.  ],\n",
       "       [1.5 , 1.  ],\n",
       "       [1.54, 1.  ],\n",
       "       [1.56, 1.  ],\n",
       "       [1.57, 1.  ],\n",
       "       [1.58, 1.  ],\n",
       "       [1.59, 1.  ],\n",
       "       [1.62, 2.  ],\n",
       "       [1.65, 1.  ],\n",
       "       [1.66, 2.  ],\n",
       "       [1.68, 1.  ],\n",
       "       [1.69, 1.  ],\n",
       "       [1.72, 3.  ],\n",
       "       [1.75, 2.  ],\n",
       "       [1.76, 1.  ],\n",
       "       [1.79, 2.  ],\n",
       "       [1.81, 1.  ],\n",
       "       [1.83, 1.  ],\n",
       "       [1.85, 1.  ],\n",
       "       [1.9 , 1.  ],\n",
       "       [1.95, 2.  ],\n",
       "       [1.99, 1.  ],\n",
       "       [2.  , 2.  ],\n",
       "       [2.03, 1.  ],\n",
       "       [2.08, 1.  ],\n",
       "       [2.09, 1.  ],\n",
       "       [2.1 , 1.  ],\n",
       "       [2.13, 1.  ],\n",
       "       [2.14, 2.  ],\n",
       "       [2.15, 1.  ],\n",
       "       [2.16, 1.  ],\n",
       "       [2.18, 1.  ],\n",
       "       [2.21, 1.  ],\n",
       "       [2.22, 2.  ],\n",
       "       [2.23, 2.  ],\n",
       "       [2.24, 1.  ],\n",
       "       [2.25, 2.  ],\n",
       "       [2.3 , 2.  ],\n",
       "       [2.32, 1.  ],\n",
       "       [2.33, 2.  ],\n",
       "       [2.34, 3.  ],\n",
       "       [2.35, 1.  ],\n",
       "       [2.39, 1.  ],\n",
       "       [2.41, 1.  ],\n",
       "       [2.42, 1.  ],\n",
       "       [2.46, 1.  ],\n",
       "       [2.48, 1.  ],\n",
       "       [2.51, 1.  ],\n",
       "       [2.52, 1.  ],\n",
       "       [2.63, 2.  ],\n",
       "       [2.7 , 3.  ],\n",
       "       [2.76, 1.  ],\n",
       "       [2.78, 1.  ],\n",
       "       [2.8 , 1.  ],\n",
       "       [2.84, 1.  ],\n",
       "       [2.86, 1.  ],\n",
       "       [2.87, 1.  ],\n",
       "       [2.9 , 1.  ],\n",
       "       [2.91, 1.  ],\n",
       "       [2.95, 1.  ],\n",
       "       [2.96, 1.  ],\n",
       "       [2.99, 1.  ]])"
      ]
     },
     "execution_count": 28,
     "metadata": {},
     "output_type": "execute_result"
    }
   ],
   "source": [
    "frequency_matrix = np.array(frequency).T\n",
    "frequency_matrix"
   ]
  },
  {
   "cell_type": "code",
   "execution_count": 10,
   "metadata": {},
   "outputs": [],
   "source": [
    "probability = frequency_matrix.copy()"
   ]
  },
  {
   "cell_type": "code",
   "execution_count": 11,
   "metadata": {},
   "outputs": [],
   "source": [
    "probability[:,1] =  probability[:,1]/100"
   ]
  },
  {
   "cell_type": "code",
   "execution_count": 12,
   "metadata": {},
   "outputs": [
    {
     "data": {
      "text/plain": [
       "array([[1.01, 0.01],\n",
       "       [1.06, 0.01],\n",
       "       [1.09, 0.01],\n",
       "       [1.14, 0.01],\n",
       "       [1.15, 0.01],\n",
       "       [1.17, 0.01],\n",
       "       [1.19, 0.01],\n",
       "       [1.29, 0.01],\n",
       "       [1.31, 0.01],\n",
       "       [1.34, 0.01],\n",
       "       [1.35, 0.01],\n",
       "       [1.38, 0.02],\n",
       "       [1.39, 0.01],\n",
       "       [1.4 , 0.01],\n",
       "       [1.42, 0.01],\n",
       "       [1.43, 0.01],\n",
       "       [1.44, 0.01],\n",
       "       [1.47, 0.02],\n",
       "       [1.5 , 0.01],\n",
       "       [1.54, 0.01],\n",
       "       [1.56, 0.01],\n",
       "       [1.57, 0.01],\n",
       "       [1.58, 0.01],\n",
       "       [1.59, 0.01],\n",
       "       [1.62, 0.02],\n",
       "       [1.65, 0.01],\n",
       "       [1.66, 0.02],\n",
       "       [1.68, 0.01],\n",
       "       [1.69, 0.01],\n",
       "       [1.72, 0.03],\n",
       "       [1.75, 0.02],\n",
       "       [1.76, 0.01],\n",
       "       [1.79, 0.02],\n",
       "       [1.81, 0.01],\n",
       "       [1.83, 0.01],\n",
       "       [1.85, 0.01],\n",
       "       [1.9 , 0.01],\n",
       "       [1.95, 0.02],\n",
       "       [1.99, 0.01],\n",
       "       [2.  , 0.02],\n",
       "       [2.03, 0.01],\n",
       "       [2.08, 0.01],\n",
       "       [2.09, 0.01],\n",
       "       [2.1 , 0.01],\n",
       "       [2.13, 0.01],\n",
       "       [2.14, 0.02],\n",
       "       [2.15, 0.01],\n",
       "       [2.16, 0.01],\n",
       "       [2.18, 0.01],\n",
       "       [2.21, 0.01],\n",
       "       [2.22, 0.02],\n",
       "       [2.23, 0.02],\n",
       "       [2.24, 0.01],\n",
       "       [2.25, 0.02],\n",
       "       [2.3 , 0.02],\n",
       "       [2.32, 0.01],\n",
       "       [2.33, 0.02],\n",
       "       [2.34, 0.03],\n",
       "       [2.35, 0.01],\n",
       "       [2.39, 0.01],\n",
       "       [2.41, 0.01],\n",
       "       [2.42, 0.01],\n",
       "       [2.46, 0.01],\n",
       "       [2.48, 0.01],\n",
       "       [2.51, 0.01],\n",
       "       [2.52, 0.01],\n",
       "       [2.63, 0.02],\n",
       "       [2.7 , 0.03],\n",
       "       [2.76, 0.01],\n",
       "       [2.78, 0.01],\n",
       "       [2.8 , 0.01],\n",
       "       [2.84, 0.01],\n",
       "       [2.86, 0.01],\n",
       "       [2.87, 0.01],\n",
       "       [2.9 , 0.01],\n",
       "       [2.91, 0.01],\n",
       "       [2.95, 0.01],\n",
       "       [2.96, 0.01],\n",
       "       [2.99, 0.01]])"
      ]
     },
     "execution_count": 12,
     "metadata": {},
     "output_type": "execute_result"
    }
   ],
   "source": [
    "probability"
   ]
  },
  {
   "cell_type": "code",
   "execution_count": 13,
   "metadata": {},
   "outputs": [],
   "source": [
    "expectedvalue = np.sum(probability[:,0]*probability[:,1])"
   ]
  },
  {
   "cell_type": "code",
   "execution_count": 14,
   "metadata": {},
   "outputs": [
    {
     "data": {
      "text/plain": [
       "2.0025"
      ]
     },
     "execution_count": 14,
     "metadata": {},
     "output_type": "execute_result"
    }
   ],
   "source": [
    "expectedvalue"
   ]
  },
  {
   "cell_type": "code",
   "execution_count": 15,
   "metadata": {},
   "outputs": [],
   "source": [
    "variance = (1/100)* np.sum(frequency_matrix[:,1]*((frequency_matrix[:,0] - expectedvalue)**2))"
   ]
  },
  {
   "cell_type": "code",
   "execution_count": 16,
   "metadata": {},
   "outputs": [
    {
     "data": {
      "text/plain": [
       "0.26772475000000007"
      ]
     },
     "execution_count": 16,
     "metadata": {},
     "output_type": "execute_result"
    }
   ],
   "source": [
    "variance"
   ]
  },
  {
   "cell_type": "code",
   "execution_count": 17,
   "metadata": {},
   "outputs": [],
   "source": [
    "from scipy.stats import norm\n",
    "import matplotlib.pyplot as plt"
   ]
  },
  {
   "cell_type": "code",
   "execution_count": 18,
   "metadata": {},
   "outputs": [
    {
     "data": {
      "image/png": "[encoded data removed]",
      "text/plain": [
       "<Figure size 432x288 with 1 Axes>"
      ]
     },
     "metadata": {
      "needs_background": "light"
     },
     "output_type": "display_data"
    }
   ],
   "source": [
    "x = np.random.normal(expectedvalue, variance, 1000)\n",
    "plt.hist(data_1, density=True, bins=30, label=\"Data\")\n",
    "plt.scatter(x, norm.pdf(x,expectedvalue, variance),color= 'red',  label=\"PDF\")\n",
    "plt.legend(loc=\"upper left\")\n",
    "plt.show()"
   ]
  },
  {
   "cell_type": "code",
   "execution_count": 19,
   "metadata": {},
   "outputs": [],
   "source": [
    "data = np.random.uniform(0,4,50)"
   ]
  },
  {
   "cell_type": "code",
   "execution_count": 20,
   "metadata": {},
   "outputs": [
    {
     "data": {
      "image/png": "[encoded data removed]",
      "text/plain": [
       "<Figure size 432x288 with 1 Axes>"
      ]
     },
     "metadata": {
      "needs_background": "light"
     },
     "output_type": "display_data"
    },
    {
     "data": {
      "text/plain": [
       "array([0.19779576, 2.83895485, 2.91256961, 1.6101033 , 1.10889139,\n",
       "       1.08649222, 0.97565122, 1.67415463, 3.78560204, 1.03755005,\n",
       "       1.82174147, 2.80224133, 0.5563793 , 2.37805041, 3.56346511,\n",
       "       0.86646102, 2.36095812, 0.03836427, 0.43849688, 0.0234003 ,\n",
       "       1.29729493, 1.23166921, 3.87847439, 3.55772013, 3.25040849,\n",
       "       3.75621161, 3.22001487, 1.77562913, 2.92770202, 3.74799389,\n",
       "       1.07787852, 2.06842479, 3.45466743, 0.69391973, 2.560743  ,\n",
       "       2.75170725, 3.11816928, 0.4435556 , 2.11932046, 2.77581567,\n",
       "       1.76118743, 0.98025064, 2.90692986, 2.15911628, 1.87661671,\n",
       "       3.12409249, 0.08600537, 2.6929939 , 0.9293673 , 1.62694972])"
      ]
     },
     "execution_count": 20,
     "metadata": {},
     "output_type": "execute_result"
    }
   ],
   "source": [
    "count, bins, ignored = plt.hist(data, 15, density=True)\n",
    "plt.show()\n",
    "data\n"
   ]
  },
  {
   "cell_type": "code",
   "execution_count": 21,
   "metadata": {},
   "outputs": [
    {
     "data": {
      "image/png": "[encoded data removed]",
      "text/plain": [
       "<Figure size 432x288 with 1 Axes>"
      ]
     },
     "metadata": {
      "needs_background": "light"
     },
     "output_type": "display_data"
    }
   ],
   "source": [
    "mu, sigma = 0, 4 # mean and standard deviation\n",
    "s = np.random.normal(mu, sigma, 1000)\n",
    "count, bins, ignored = plt.hist(s, 30, density=True)\n",
    "plt.plot(bins, 1/(sigma * np.sqrt(2 * np.pi)) *\n",
    "               np.exp( - (bins - mu)**2 / (2 * sigma**2) ),\n",
    "         linewidth=2, color='r')\n",
    "plt.show()"
   ]
  },
  {
   "cell_type": "code",
   "execution_count": 22,
   "metadata": {},
   "outputs": [
    {
     "data": {
      "image/png": "[encoded data removed]",
      "text/plain": [
       "<Figure size 432x288 with 1 Axes>"
      ]
     },
     "metadata": {
      "needs_background": "light"
     },
     "output_type": "display_data"
    }
   ],
   "source": [
    "mu, sigma = 0, 4 # mean and standard deviation\n",
    "s = np.random.lognormal(mu, sigma, 1000)\n",
    "count, bins, ignored = plt.hist(s, 100, density=True, align='mid')\n",
    "x = np.linspace(min(bins), max(bins), 10000)\n",
    "pdf = (np.exp(-(np.log(x) - mu)**2 / (2 * sigma**2))\n",
    "       / (x * sigma * np.sqrt(2 * np.pi)))\n",
    "plt.plot(x, pdf, linewidth=2, color='r')\n",
    "plt.axis('tight')\n",
    "plt.show()"
   ]
  },
  {
   "cell_type": "code",
   "execution_count": 23,
   "metadata": {},
   "outputs": [],
   "source": [
    "frequency_ud = np.unique(data, return_counts=True)\n",
    "frequency_ud_matrix = np.array(frequency_ud).T\n",
    "probability_ud = frequency_ud_matrix.copy()\n",
    "probability_ud[:,1] = probability_ud[:,1]/50\n"
   ]
  },
  {
   "cell_type": "code",
   "execution_count": 24,
   "metadata": {},
   "outputs": [
    {
     "data": {
      "text/plain": [
       "array([[0.0234003 , 0.02      ],\n",
       "       [0.03836427, 0.02      ],\n",
       "       [0.08600537, 0.02      ],\n",
       "       [0.19779576, 0.02      ],\n",
       "       [0.43849688, 0.02      ],\n",
       "       [0.4435556 , 0.02      ],\n",
       "       [0.5563793 , 0.02      ],\n",
       "       [0.69391973, 0.02      ],\n",
       "       [0.86646102, 0.02      ],\n",
       "       [0.9293673 , 0.02      ],\n",
       "       [0.97565122, 0.02      ],\n",
       "       [0.98025064, 0.02      ],\n",
       "       [1.03755005, 0.02      ],\n",
       "       [1.07787852, 0.02      ],\n",
       "       [1.08649222, 0.02      ],\n",
       "       [1.10889139, 0.02      ],\n",
       "       [1.23166921, 0.02      ],\n",
       "       [1.29729493, 0.02      ],\n",
       "       [1.6101033 , 0.02      ],\n",
       "       [1.62694972, 0.02      ],\n",
       "       [1.67415463, 0.02      ],\n",
       "       [1.76118743, 0.02      ],\n",
       "       [1.77562913, 0.02      ],\n",
       "       [1.82174147, 0.02      ],\n",
       "       [1.87661671, 0.02      ],\n",
       "       [2.06842479, 0.02      ],\n",
       "       [2.11932046, 0.02      ],\n",
       "       [2.15911628, 0.02      ],\n",
       "       [2.36095812, 0.02      ],\n",
       "       [2.37805041, 0.02      ],\n",
       "       [2.560743  , 0.02      ],\n",
       "       [2.6929939 , 0.02      ],\n",
       "       [2.75170725, 0.02      ],\n",
       "       [2.77581567, 0.02      ],\n",
       "       [2.80224133, 0.02      ],\n",
       "       [2.83895485, 0.02      ],\n",
       "       [2.90692986, 0.02      ],\n",
       "       [2.91256961, 0.02      ],\n",
       "       [2.92770202, 0.02      ],\n",
       "       [3.11816928, 0.02      ],\n",
       "       [3.12409249, 0.02      ],\n",
       "       [3.22001487, 0.02      ],\n",
       "       [3.25040849, 0.02      ],\n",
       "       [3.45466743, 0.02      ],\n",
       "       [3.55772013, 0.02      ],\n",
       "       [3.56346511, 0.02      ],\n",
       "       [3.74799389, 0.02      ],\n",
       "       [3.75621161, 0.02      ],\n",
       "       [3.78560204, 0.02      ],\n",
       "       [3.87847439, 0.02      ]])"
      ]
     },
     "execution_count": 24,
     "metadata": {},
     "output_type": "execute_result"
    }
   ],
   "source": [
    "probability_ud"
   ]
  },
  {
   "cell_type": "code",
   "execution_count": 25,
   "metadata": {},
   "outputs": [],
   "source": [
    "expectedvalue_ud = np.sum(probability_ud[:,0]*probability_ud[:,1])"
   ]
  },
  {
   "cell_type": "code",
   "execution_count": 26,
   "metadata": {},
   "outputs": [
    {
     "data": {
      "text/plain": [
       "1.9985630676985764"
      ]
     },
     "execution_count": 26,
     "metadata": {},
     "output_type": "execute_result"
    }
   ],
   "source": [
    "expectedvalue_ud"
   ]
  },
  {
   "cell_type": "code",
   "execution_count": null,
   "metadata": {},
   "outputs": [],
   "source": []
  }
 ],
 "metadata": {
  "kernelspec": {
   "display_name": "Python 3",
   "language": "python",
   "name": "python3"
  },
  "language_info": {
   "codemirror_mode": {
    "name": "ipython",
    "version": 3
   },
   "file_extension": ".py",
   "mimetype": "text/x-python",
   "name": "python",
   "nbconvert_exporter": "python",
   "pygments_lexer": "ipython3",
   "version": "3.7.6"
  }
 },
 "nbformat": 4,
 "nbformat_minor": 4
}
