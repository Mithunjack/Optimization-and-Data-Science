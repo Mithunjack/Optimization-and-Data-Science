{
 "cells": [
  {
   "cell_type": "code",
   "execution_count": 30,
   "metadata": {},
   "outputs": [
    {
     "data": {
      "text/plain": [
       "(200, 300, 4)"
      ]
     },
     "execution_count": 30,
     "metadata": {},
     "output_type": "execute_result"
    }
   ],
   "source": [
    "import numpy as np\n",
    "import matplotlib.pyplot as plt\n",
    "from numpy import fft\n",
    "from matplotlib.image import imread\n",
    "from matplotlib.pyplot import imshow\n",
    "\n",
    "A = imread('easter.PNG')\n",
    "\n",
    "np.shape(A) #for getting the dimention\n",
    "# imshow(A)"
   ]
  },
  {
   "cell_type": "code",
   "execution_count": 31,
   "metadata": {},
   "outputs": [
    {
     "ename": "AttributeError",
     "evalue": "type object 'color' has no attribute 'bold'",
     "output_type": "error",
     "traceback": [
      "\u001b[1;31m---------------------------------------------------------------------------\u001b[0m",
      "\u001b[1;31mAttributeError\u001b[0m                            Traceback (most recent call last)",
      "\u001b[1;32m<ipython-input-31-d026d4221ece>\u001b[0m in \u001b[0;36m<module>\u001b[1;34m\u001b[0m\n\u001b[0;32m      1\u001b[0m \u001b[0mcoef_array\u001b[0m \u001b[1;33m=\u001b[0m \u001b[0mfft\u001b[0m\u001b[1;33m.\u001b[0m\u001b[0mfft2\u001b[0m\u001b[1;33m(\u001b[0m\u001b[0mA\u001b[0m\u001b[1;33m)\u001b[0m\u001b[1;33m\u001b[0m\u001b[1;33m\u001b[0m\u001b[0m\n\u001b[1;32m----> 2\u001b[1;33m \u001b[0mprint\u001b[0m\u001b[1;33m(\u001b[0m\u001b[0mcolor\u001b[0m\u001b[1;33m.\u001b[0m\u001b[0mbold\u001b[0m \u001b[1;33m+\u001b[0m \u001b[1;34m'coef array '\u001b[0m \u001b[1;33m+\u001b[0m \u001b[0mcoef_array\u001b[0m \u001b[1;33m+\u001b[0m \u001b[0mcolor\u001b[0m\u001b[1;33m.\u001b[0m\u001b[0mbold\u001b[0m \u001b[1;33m)\u001b[0m\u001b[1;33m\u001b[0m\u001b[1;33m\u001b[0m\u001b[0m\n\u001b[0m\u001b[0;32m      3\u001b[0m \u001b[1;33m\u001b[0m\u001b[0m\n\u001b[0;32m      4\u001b[0m \u001b[0msorted_coef_array\u001b[0m \u001b[1;33m=\u001b[0m \u001b[0mnp\u001b[0m\u001b[1;33m.\u001b[0m\u001b[0msort\u001b[0m\u001b[1;33m(\u001b[0m\u001b[0mnp\u001b[0m\u001b[1;33m.\u001b[0m\u001b[0mabs\u001b[0m\u001b[1;33m(\u001b[0m\u001b[0mcoef_array\u001b[0m\u001b[1;33m.\u001b[0m\u001b[0mreshape\u001b[0m\u001b[1;33m(\u001b[0m\u001b[1;33m-\u001b[0m\u001b[1;36m1\u001b[0m\u001b[1;33m)\u001b[0m\u001b[1;33m)\u001b[0m\u001b[1;33m)\u001b[0m \u001b[1;31m#sort coef and #reshape convert 2D array into a Vector\u001b[0m\u001b[1;33m\u001b[0m\u001b[1;33m\u001b[0m\u001b[0m\n\u001b[0;32m      5\u001b[0m \u001b[0mprint\u001b[0m\u001b[1;33m(\u001b[0m\u001b[1;34m'sorted coef array '\u001b[0m\u001b[1;33m,\u001b[0m\u001b[0msorted_coef_array\u001b[0m\u001b[1;33m)\u001b[0m\u001b[1;33m\u001b[0m\u001b[1;33m\u001b[0m\u001b[0m\n",
      "\u001b[1;31mAttributeError\u001b[0m: type object 'color' has no attribute 'bold'"
     ]
    }
   ],
   "source": [
    "coef_array = fft.fft2(A) \n",
    "print('coef array ' , coef_array)\n",
    "\n",
    "sorted_coef_array = np.sort(np.abs(coef_array.reshape(-1))) #sort coef and #reshape convert 2D array into a Vector\n",
    "print('sorted coef array ',sorted_coef_array)\n",
    "i=0\n",
    "print('sorted coef array size' , sorted_coef_array.size)\n",
    "for keep in (1,0.1,0.05,0.02,0.01,0.001):\n",
    "    minimum_coef_index = int(np.floor((1-keep)*len(sorted_coef_array)))\n",
    "    print('minimum coef index', minimum_coef_index)\n",
    "    thresh = sorted_coef_array[minimum_coef_index] #minimum coef value\n",
    "    print('text', np.abs(coef_array))\n",
    "    ind = np.abs(coef_array) > thresh\n",
    "    filtered_coef = coef_array*ind \n",
    "    real_valued_compressed_data = fft.ifft2(filtered_coef).real\n",
    "    \n",
    "    plt.figure(i)\n",
    "    plt.title('Convert ' + str(keep*100) + ' %' )\n",
    "    plt.imshow(real_valued_compressed_data)\n",
    "    i += 1\n",
    "    d = get_difference(A,real_valued_compressed_data)\n",
    "    print(d)\n",
    "    "
   ]
  },
  {
   "cell_type": "code",
   "execution_count": null,
   "metadata": {},
   "outputs": [],
   "source": [
    "a= np.array([1, 2, 3,5,6,89])\n",
    "b = a > 10\n",
    "print(b * a)"
   ]
  },
  {
   "cell_type": "code",
   "execution_count": null,
   "metadata": {},
   "outputs": [],
   "source": [
    "def get_difference(original,filtered):\n",
    "    differences = (np.subtract(original,filtered)).reshape(-1)\n",
    "    avg_difference = (np.sum(differences))/differences.size\n",
    "    return  avg_difference\n",
    "\n",
    "\n",
    "def get_minimum_number_of_coef(image):\n",
    "    coef_array = fft.fft2(image) \n",
    "    sorted_coef_array = np.sort(np.abs(coef_array.reshape(-1))) #sort coef and #reshape convert 2D array into a Vector\n",
    "    i=237100\n",
    "    while i<=228000:\n",
    "        thresh = sorted_coef_array[i]\n",
    "        ind = np.abs(coef_array) > thresh\n",
    "        filtered_coef = coef_array*ind \n",
    "        real_valued_compressed_data = fft.ifft2(filtered_coef).real\n",
    "    \n",
    "        plt.figure(i)\n",
    "        plt.title('Convert ' + str(i) + ' %' )\n",
    "        plt.imshow(real_valued_compressed_data)\n",
    "        i += 10\n",
    "get_minimum_number_of_coef(A)       "
   ]
  },
  {
   "cell_type": "code",
   "execution_count": null,
   "metadata": {},
   "outputs": [],
   "source": []
  }
 ],
 "metadata": {
  "kernelspec": {
   "display_name": "Python 3",
   "language": "python",
   "name": "python3"
  },
  "language_info": {
   "codemirror_mode": {
    "name": "ipython",
    "version": 3
   },
   "file_extension": ".py",
   "mimetype": "text/x-python",
   "name": "python",
   "nbconvert_exporter": "python",
   "pygments_lexer": "ipython3",
   "version": "3.7.6"
  }
 },
 "nbformat": 4,
 "nbformat_minor": 4
}
